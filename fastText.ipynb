{
  "cells": [
    {
      "cell_type": "code",
      "execution_count": null,
      "metadata": {
        "colab": {
          "base_uri": "https://localhost:8080/"
        },
        "id": "gCDh35Zi0QWQ",
        "outputId": "840945ca-0d55-48fc-8b7b-1ce0560c3a86"
      },
      "outputs": [
        {
          "name": "stdout",
          "output_type": "stream",
          "text": [
            "Collecting fasttext\n",
            "  Downloading fasttext-0.9.2.tar.gz (68 kB)\n",
            "\u001b[?25l\r\u001b[K     |████▊                           | 10 kB 21.1 MB/s eta 0:00:01\r\u001b[K     |█████████▌                      | 20 kB 27.0 MB/s eta 0:00:01\r\u001b[K     |██████████████▎                 | 30 kB 15.4 MB/s eta 0:00:01\r\u001b[K     |███████████████████             | 40 kB 11.6 MB/s eta 0:00:01\r\u001b[K     |███████████████████████▉        | 51 kB 9.5 MB/s eta 0:00:01\r\u001b[K     |████████████████████████████▋   | 61 kB 9.3 MB/s eta 0:00:01\r\u001b[K     |████████████████████████████████| 68 kB 4.0 MB/s \n",
            "\u001b[?25hCollecting pybind11>=2.2\n",
            "  Using cached pybind11-2.8.1-py2.py3-none-any.whl (208 kB)\n",
            "Requirement already satisfied: setuptools>=0.7.0 in /usr/local/lib/python3.7/dist-packages (from fasttext) (57.4.0)\n",
            "Requirement already satisfied: numpy in /usr/local/lib/python3.7/dist-packages (from fasttext) (1.19.5)\n",
            "Building wheels for collected packages: fasttext\n",
            "  Building wheel for fasttext (setup.py) ... \u001b[?25l\u001b[?25hdone\n",
            "  Created wheel for fasttext: filename=fasttext-0.9.2-cp37-cp37m-linux_x86_64.whl size=3123052 sha256=90176403880f05ecd9c87faf60607df35f720a5f9078d72bbca7da9ca9c0cd8d\n",
            "  Stored in directory: /root/.cache/pip/wheels/4e/ca/bf/b020d2be95f7641801a6597a29c8f4f19e38f9c02a345bab9b\n",
            "Successfully built fasttext\n",
            "Installing collected packages: pybind11, fasttext\n",
            "Successfully installed fasttext-0.9.2 pybind11-2.8.1\n"
          ] 
        }
      ],
      "source": [
        "!pip install fasttext"
      ]
    },
    {
      "cell_type": "code",
      "execution_count": null,
      "metadata": {
        "id": "qKL16gtM4ngA"
      },
      "outputs": [],
      "source": [
        "import fasttext"
      ]
    },
    {
      "cell_type": "code",
      "execution_count": null,
      "metadata": {
        "id": "BF92uxatEZrZ"
      },
      "outputs": [],
      "source": [
        "import pandas as pd"
      ]
    },
    {
      "cell_type": "code",
      "execution_count": null,
      "metadata": {
        "colab": {
          "base_uri": "https://localhost:8080/"
        },
        "id": "JM0scu9XCWav",
        "outputId": "ab2ccb20-da05-46e9-fff4-aa486d06c769"
      },
      "outputs": [
        {
          "data": {
            "text/plain": [
              "array([  2596709,   4022849,   4748971, ..., 633093941, 624887516,\n",
              "       623517704])"
            ]
          },
          "execution_count": 103,
          "metadata": {},
          "output_type": "execute_result"
        }
      ],
      "source": [
        "data = pd.read_csv('/content/texts.csv', sep=',')\n",
        "column_names = ['Label', 'Text']\n",
        "data.columns = column_names\n",
        "data['Label'].unique()"
      ]
    },
    {
      "cell_type": "code",
      "execution_count": null,
      "metadata": {
        "id": "-f4gB_JICa0c"
      },
      "outputs": [],
      "source": [
        "data['count'] = data.groupby(['Label']).transform('count')"
      ]
    },
    {
      "cell_type": "code",
      "execution_count": null,
      "metadata": {
        "id": "t95McWd2Cd1M"
      },
      "outputs": [],
      "source": [
        "data = data.loc[data['count'] > 359]"
      ]
    },
    {
      "cell_type": "code",
      "execution_count": null,
      "metadata": {
        "colab": {
          "base_uri": "https://localhost:8080/"
        },
        "id": "MjaSIdslCis-",
        "outputId": "b03c38d0-5383-433d-cc56-2b5e2b8d4861"
      },
      "outputs": [
        {
          "data": {
            "text/plain": [
              "50"
            ]
          },
          "execution_count": 137,
          "metadata": {},
          "output_type": "execute_result"
        }
      ],
      "source": [
        "len(data.Label.value_counts())\n"
      ]
    },
    {
      "cell_type": "code",
      "execution_count": null,
      "metadata": {
        "id": "QGubXBuOCxCK"
      },
      "outputs": [],
      "source": [
        "del data['count']"
      ]
    },
    {
      "cell_type": "code",
      "execution_count": null,
      "metadata": {
        "id": "g1lRj8lXC38S"
      },
      "outputs": [],
      "source": [
        "data = data[['Label', 'Text']]"
      ]
    },
    {
      "cell_type": "code",
      "execution_count": null,
      "metadata": {
        "colab": {
          "base_uri": "https://localhost:8080/",
          "height": 206
        },
        "id": "39-_rbWqC8MJ",
        "outputId": "2a7752f3-3f5e-45bd-d91f-0e46d5a15f79"
      },
      "outputs": [
        {
          "data": {
            "text/html": [
              "<div>\n",
              "<style scoped>\n",
              "    .dataframe tbody tr th:only-of-type {\n",
              "        vertical-align: middle;\n",
              "    }\n",
              "\n",
              "    .dataframe tbody tr th {\n",
              "        vertical-align: top;\n",
              "    }\n",
              "\n",
              "    .dataframe thead th {\n",
              "        text-align: right;\n",
              "    }\n",
              "</style>\n",
              "<table border=\"1\" class=\"dataframe\">\n",
              "  <thead>\n",
              "    <tr style=\"text-align: right;\">\n",
              "      <th></th>\n",
              "      <th>Label</th>\n",
              "      <th>Text</th>\n",
              "    </tr>\n",
              "  </thead>\n",
              "  <tbody>\n",
              "    <tr>\n",
              "      <th>728</th>\n",
              "      <td>65916370</td>\n",
              "      <td>Мне, блеать, 44 стукнет.  Что, вешаться теперь...</td>\n",
              "    </tr>\n",
              "    <tr>\n",
              "      <th>1486</th>\n",
              "      <td>267890490</td>\n",
              "      <td>Серьезно? Старая Кубань парит ещё со времен шу...</td>\n",
              "    </tr>\n",
              "    <tr>\n",
              "      <th>3711</th>\n",
              "      <td>286791669</td>\n",
              "      <td>ya bi na vshem meste bolshe boyalsya vot etogo...</td>\n",
              "    </tr>\n",
              "    <tr>\n",
              "      <th>3712</th>\n",
              "      <td>286791669</td>\n",
              "      <td>eto oni specalno... chto bi vse poshli provery...</td>\n",
              "    </tr>\n",
              "    <tr>\n",
              "      <th>3713</th>\n",
              "      <td>286791669</td>\n",
              "      <td>Nu tipa kak raz po teme \"Большие Технологии | ...</td>\n",
              "    </tr>\n",
              "  </tbody>\n",
              "</table>\n",
              "</div>"
            ],
            "text/plain": [
              "          Label                                               Text\n",
              "728    65916370  Мне, блеать, 44 стукнет.  Что, вешаться теперь...\n",
              "1486  267890490  Серьезно? Старая Кубань парит ещё со времен шу...\n",
              "3711  286791669  ya bi na vshem meste bolshe boyalsya vot etogo...\n",
              "3712  286791669  eto oni specalno... chto bi vse poshli provery...\n",
              "3713  286791669  Nu tipa kak raz po teme \"Большие Технологии | ..."
            ]
          },
          "execution_count": 140,
          "metadata": {},
          "output_type": "execute_result"
        }
      ],
      "source": [
        "data.head()"
      ]
    },
    {
      "cell_type": "code",
      "execution_count": null,
      "metadata": {
        "id": "GPejxLEE9NKd"
      },
      "outputs": [],
      "source": [
        "from sklearn.model_selection import train_test_split\n",
        "\n",
        "train, test = train_test_split(data, test_size=0.2)"
      ]
    },
    {
      "cell_type": "code",
      "execution_count": null,
      "metadata": {
        "colab": {
          "base_uri": "https://localhost:8080/"
        },
        "id": "NedkXoYP2sVc",
        "outputId": "15fccc99-27bf-4d63-c895-0cd9f308cb35"
      },
      "outputs": [
        {
          "data": {
            "text/plain": [
              "array([630844626, 566938799,  21214322, 595719538, 355969640, 655469729,\n",
              "        18868363, 285927683, 594101002, 586790014, 185676996, 140131671,\n",
              "         9630481, 297491771, 592141627, 641675418, 571971710, 121274985,\n",
              "       259065520,  34736114, 530091982,  68553017, 114217411, 471929067,\n",
              "        65916370, 651834375,  48226055, 290697755, 609190763, 338290093,\n",
              "       500600640, 439501626,   7251254, 364874740,  18284876,  51568376,\n",
              "       267890490, 381555405,   1761858, 574352731, 485776973,   1519657,\n",
              "       641614098,  66660884,  64459953, 116427419,   1952837, 565160671,\n",
              "       249683824, 286791669])"
            ]
          },
          "execution_count": 142,
          "metadata": {},
          "output_type": "execute_result"
        }
      ],
      "source": [
        "train.Label.unique()"
      ]
    },
    {
      "cell_type": "code",
      "execution_count": null,
      "metadata": {
        "colab": {
          "base_uri": "https://localhost:8080/"
        },
        "id": "S4_owMDl34Is",
        "outputId": "3a6103bd-f0e3-4cc4-a5f2-0de399467859"
      },
      "outputs": [
        {
          "data": {
            "text/plain": [
              "array([140131671,  51568376,   9630481,  21214322, 364874740, 121274985,\n",
              "       259065520, 655469729,   7251254,   1519657, 500600640, 297491771,\n",
              "       595719538, 651834375, 594101002, 355969640, 290697755, 530091982,\n",
              "        18868363,  64459953, 381555405, 641675418, 566938799, 285927683,\n",
              "        18284876, 286791669, 630844626, 592141627, 641614098, 249683824,\n",
              "       565160671,  68553017, 574352731, 185676996, 114217411, 439501626,\n",
              "        48226055, 586790014,  34736114,   1952837, 485776973, 267890490,\n",
              "       609190763,  65916370, 471929067, 116427419,  66660884, 571971710,\n",
              "       338290093,   1761858])"
            ]
          },
          "execution_count": 143,
          "metadata": {},
          "output_type": "execute_result"
        }
      ],
      "source": [
        "test.Label.unique()"
      ]
    },
    {
      "cell_type": "code",
      "execution_count": null,
      "metadata": {
        "colab": {
          "base_uri": "https://localhost:8080/"
        },
        "id": "JNUhU43U27A0",
        "outputId": "89e8c17b-b461-4277-81b4-c430490de5e7"
      },
      "outputs": [
        {
          "data": {
            "text/plain": [
              "26652"
            ]
          },
          "execution_count": 144,
          "metadata": {},
          "output_type": "execute_result"
        }
      ],
      "source": [
        "len(train)"
      ]
    },
    {
      "cell_type": "code",
      "execution_count": null,
      "metadata": {
        "colab": {
          "base_uri": "https://localhost:8080/"
        },
        "id": "WNn8LpHz28s_",
        "outputId": "bf549ebc-63eb-429b-957b-8acfa12a5005"
      },
      "outputs": [
        {
          "data": {
            "text/plain": [
              "6663"
            ]
          },
          "execution_count": 145,
          "metadata": {},
          "output_type": "execute_result"
        }
      ],
      "source": [
        "len(test)"
      ]
    },
    {
      "cell_type": "code",
      "execution_count": null,
      "metadata": {
        "id": "3sumTLF-3MTy"
      },
      "outputs": [],
      "source": [
        "from gensim.utils import simple_preprocess\n",
        "\n",
        "\n",
        "# NLP Preprocess\n",
        "train.iloc[:, 1] = train.iloc[:, 1].apply(lambda x: ' '.join(simple_preprocess(str(x))))\n",
        "test.iloc[:, 1] = test.iloc[:, 1].apply(lambda x: ' '.join(simple_preprocess(str(x))))\n",
        "\n",
        "# Prefixing each row of the category column with '__label__'\n",
        "train.iloc[:, 0] = train.iloc[:, 0].apply(lambda x: '__label__' + str(x))\n",
        "test.iloc[:, 0] = test.iloc[:, 0].apply(lambda x: '__label__' + str(x))"
      ]
    },
    {
      "cell_type": "code",
      "execution_count": null,
      "metadata": {
        "id": "X_AvWW8s4Mah"
      },
      "outputs": [],
      "source": [
        "import csv\n",
        "\n",
        "train[['Label', 'Text']].to_csv('train.txt', \n",
        "                                          index = False, \n",
        "                                          sep = ' ',\n",
        "                                          header = None, \n",
        "                                          quoting = csv.QUOTE_NONE, \n",
        "                                          quotechar = \"\", \n",
        "                                          escapechar = \" \")\n",
        "\n",
        "test[['Label', 'Text']].to_csv('test.txt', \n",
        "                                     index = False, \n",
        "                                     sep = ' ',\n",
        "                                     header = None, \n",
        "                                     quoting = csv.QUOTE_NONE, \n",
        "                                     quotechar = \"\", \n",
        "                                     escapechar = \" \")"
      ]
    },
    {
      "cell_type": "code",
      "execution_count": null,
      "metadata": {
        "colab": {
          "background_save": true,
          "base_uri": "https://localhost:8080/"
        },
        "id": "Xc0NzURzLYfI",
        "outputId": "e487a761-53fc-4e1c-dc1e-c4681a50e26d"
      },
      "outputs": [
        {
          "name": "stdout",
          "output_type": "stream",
          "text": [
            "N=1\n",
            "сейчас эпох считает 5\n",
            "4.051758289337158\n",
            "(6663, 0.5977787783280805, 0.5977787783280805)\n",
            "сейчас эпох считает 10\n",
            "7.647636651992798\n",
            "(6663, 0.6255440492270748, 0.6255440492270748)\n",
            "сейчас эпох считает 20\n",
            "14.919760704040527\n",
            "(6663, 0.625093801590875, 0.625093801590875)\n",
            "сейчас эпох считает 30\n",
            "22.1549289226532\n",
            "(6663, 0.6241933063184751, 0.6241933063184751)\n",
            "сейчас эпох считает 40\n",
            "29.49679732322693\n",
            "(6663, 0.6190904997748762, 0.6190904997748762)\n",
            "сейчас эпох считает 50\n",
            "36.40549683570862\n",
            "(6663, 0.6177397568662765, 0.6177397568662765)\n",
            "сейчас эпох считает 75\n",
            "54.819082498550415\n",
            "(6663, 0.6211916554104757, 0.6211916554104757)\n",
            "сейчас эпох считает 90\n",
            "66.16580438613892\n",
            "(6663, 0.6169893441392766, 0.6169893441392766)\n",
            "сейчас эпох считает 100\n",
            "74.19250512123108\n",
            "(6663, 0.6157886837760769, 0.6157886837760769)\n",
            "N=2\n",
            "сейчас эпох считает 5\n",
            "6.0525243282318115\n",
            "(6663, 0.5273900645354945, 0.5273900645354945)\n",
            "сейчас эпох считает 10\n",
            "11.332866907119751\n",
            "(6663, 0.6021311721446796, 0.6021311721446796)\n",
            "сейчас эпох считает 20\n",
            "21.745085954666138\n",
            "(6663, 0.6061834008704787, 0.6061834008704787)\n",
            "сейчас эпох считает 30\n",
            "32.14591670036316\n",
            "(6663, 0.6058832357796788, 0.6058832357796788)\n",
            "сейчас эпох считает 40\n",
            "42.26349234580994\n",
            "(6663, 0.6064835659612787, 0.6064835659612787)\n",
            "сейчас эпох считает 50\n",
            "52.45297861099243\n",
            "(6663, 0.6054329881434789, 0.6054329881434789)\n",
            "сейчас эпох считает 75\n",
            "78.37497973442078\n",
            "(6663, 0.6055830706888788, 0.6055830706888788)\n",
            "сейчас эпох считает 90\n",
            "94.79443860054016\n",
            "(6663, 0.6055830706888788, 0.6055830706888788)\n",
            "сейчас эпох считает 100\n",
            "105.3251051902771\n",
            "(6663, 0.6055830706888788, 0.6055830706888788)\n",
            "N=3\n",
            "сейчас эпох считает 5\n",
            "7.383517265319824\n",
            "(6663, 0.4254840162089149, 0.4254840162089149)\n",
            "сейчас эпох считает 10\n",
            "14.163100957870483\n",
            "(6663, 0.5577067387062885, 0.5577067387062885)\n",
            "сейчас эпох считает 20\n",
            "27.446428537368774\n",
            "(6663, 0.5656611136124868, 0.5656611136124868)\n",
            "сейчас эпох считает 30\n",
            "40.56481170654297\n",
            "(6663, 0.5644604532492871, 0.5644604532492871)\n",
            "сейчас эпох считает 40\n",
            "53.576369524002075\n",
            "(6663, 0.5629596277952874, 0.5629596277952874)\n",
            "сейчас эпох считает 50\n",
            "66.24429297447205\n",
            "(6663, 0.5619090499774876, 0.5619090499774876)\n",
            "сейчас эпох считает 75\n",
            "98.53736877441406\n",
            "(6663, 0.5607083896142878, 0.5607083896142878)\n",
            "сейчас эпох считает 90\n",
            "118.59617304801941\n",
            "(6663, 0.5596578117964881, 0.5596578117964881)\n",
            "сейчас эпох считает 100\n",
            "133.95029497146606\n",
            "(6663, 0.5593576467056881, 0.5593576467056881)\n"
          ]
        }
      ],
      "source": [
        "import time\n",
        "epochs = [5, 10, 20, 30, 40, 50, 75, 90, 100]\n",
        "print('N=1')\n",
        "for epoch_no in epochs:\n",
        "  print(epoch_no)\n",
        "  start = time.time()\n",
        "  model = fasttext.train_supervised('train.txt', wordNgrams=1, lr=0.5, epoch=epoch_no, loss='ova')\n",
        "  end = time.time()\n",
        "  print(end-start)\n",
        "  accuracy = model.test('test.txt')\n",
        "  print(accuracy)\n",
        "print('N=2')\n",
        "for epoch_no in epochs:\n",
        "  print(epoch_no)\n",
        "  start = time.time()\n",
        "  model = fasttext.train_supervised('train.txt', wordNgrams=2, lr=0.5, epoch=epoch_no, loss='ova')\n",
        "  end = time.time()\n",
        "  print(end-start)\n",
        "  accuracy = model.test('test.txt')\n",
        "  print(accuracy)\n",
        "print('N=3')\n",
        "for epoch_no in epochs:\n",
        "  print(epoch_no)\n",
        "  start = time.time()\n",
        "  model = fasttext.train_supervised('train.txt', wordNgrams=3, lr=0.5, epoch=epoch_no, loss='ova')\n",
        "  end = time.time()\n",
        "  print(end-start)\n",
        "  accuracy = model.test('test.txt')\n",
        "  print(accuracy)"
      ]
    },
    {
      "cell_type": "code",
      "execution_count": null,
      "metadata": {
        "id": "3vJKqbL14hLS"
      },
      "outputs": [],
      "source": [
        "# Training the fastText classifier\n",
        "\n",
        "model = fasttext.train_supervised('train.txt', epoch=5, loss='ova', lr=0.1)"
      ]
    },
    {
      "cell_type": "code",
      "execution_count": null,
      "metadata": {
        "colab": {
          "base_uri": "https://localhost:8080/",
          "height": 53
        },
        "id": "WlrTvJQC58B5",
        "outputId": "d5ebf586-2e52-499f-a73f-a9f2cc917e7c"
      },
      "outputs": [
        {
          "data": {
            "application/vnd.google.colaboratory.intrinsic+json": {
              "type": "string"
            },
            "text/plain": [
              "\"\\ndef print_results(sample_size, precision, recall):\\n    precision   = round(precision, 2)\\n    recall      = round(recall, 2)\\n    print('sample_size= {}'.format())\\n\""
            ]
          },
          "execution_count": 13,
          "metadata": {},
          "output_type": "execute_result"
        }
      ],
      "source": [
        "'''\n",
        "def print_results(sample_size, precision, recall):\n",
        "    precision   = round(precision, 2)\n",
        "    recall      = round(recall, 2)\n",
        "    print('sample_size= {}'.format())\n",
        "'''"
      ]
    },
    {
      "cell_type": "code",
      "execution_count": null,
      "metadata": {
        "colab": {
          "base_uri": "https://localhost:8080/"
        },
        "id": "yk5GhM7A4tYK",
        "outputId": "ef2368a3-7f8b-49e9-c92d-0171438383c2"
      },
      "outputs": [
        {
          "data": {
            "text/plain": [
              "(54, 0.7222222222222222, 0.7222222222222222)"
            ]
          },
          "execution_count": 40,
          "metadata": {},
          "output_type": "execute_result"
        }
      ],
      "source": [
        "# Evaluating performance on the entire test file\n",
        "\n",
        "model.test('test.txt')"
      ]
    },
    {
      "cell_type": "code",
      "execution_count": null,
      "metadata": {
        "colab": {
          "base_uri": "https://localhost:8080/"
        },
        "id": "Pc7t9IT240xO",
        "outputId": "99538209-200c-4129-8525-1825f35d2a70"
      },
      "outputs": [
        {
          "data": {
            "text/plain": [
              "(('__label__',), array([1.00001001]))"
            ]
          },
          "execution_count": 34,
          "metadata": {},
          "output_type": "execute_result"
        }
      ],
      "source": [
        "# Predicting on a single input\n",
        "\n",
        "model.predict(test.iloc[11, 1])"
      ]
    },
    {
      "cell_type": "code",
      "execution_count": null,
      "metadata": {
        "id": "k0OwmfY05Gm4"
      },
      "outputs": [],
      "source": [
        "# Save the trained model\n",
        "\n",
        "model.save_model('model.bin')"
      ]
    },
    {
      "cell_type": "code",
      "execution_count": null,
      "metadata": {
        "id": "kzMCsbZA6-ON"
      },
      "outputs": [],
      "source": [
        "model2 = fasttext.train_supervised('train.txt', autotuneValidationFile='test.txt', epoch=5, autotuneDuration=50)"
      ]
    },
    {
      "cell_type": "code",
      "execution_count": null,
      "metadata": {
        "colab": {
          "base_uri": "https://localhost:8080/"
        },
        "id": "1Yimn58V7VcT",
        "outputId": "e1e860ce-186e-40d5-9292-23e9252bb8db"
      },
      "outputs": [
        {
          "data": {
            "text/plain": [
              "(54, 0.7222222222222222, 0.7222222222222222)"
            ]
          },
          "execution_count": 17,
          "metadata": {},
          "output_type": "execute_result"
        }
      ],
      "source": [
        "model2.test('test.txt')"
      ]
    }
  ],
  "metadata": {
    "colab": {
      "collapsed_sections": [],
      "name": "fastText.ipynb",
      "provenance": []
    },
    "kernelspec": {
      "display_name": "Python 3",
      "language": "python",
      "name": "python3"
    },
    "language_info": {
      "codemirror_mode": {
        "name": "ipython",
        "version": 3
      },
      "file_extension": ".py",
      "mimetype": "text/x-python",
      "name": "python",
      "nbconvert_exporter": "python",
      "pygments_lexer": "ipython3",
      "version": "3.7.5"
    }
  },
  "nbformat": 4,
  "nbformat_minor": 0
}
